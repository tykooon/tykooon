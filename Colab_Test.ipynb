{
  "nbformat": 4,
  "nbformat_minor": 0,
  "metadata": {
    "colab": {
      "name": "Colab_Test.ipynb",
      "provenance": [],
      "authorship_tag": "ABX9TyNsI2gAfxhOmF4aWtvVn9Nn",
      "include_colab_link": true
    },
    "kernelspec": {
      "name": "python3",
      "display_name": "Python 3"
    },
    "language_info": {
      "name": "python"
    }
  },
  "cells": [
    {
      "cell_type": "markdown",
      "metadata": {
        "id": "view-in-github",
        "colab_type": "text"
      },
      "source": [
        "<a href=\"https://colab.research.google.com/github/tykooon/tykooon/blob/main/Colab_Test.ipynb\" target=\"_parent\"><img src=\"https://colab.research.google.com/assets/colab-badge.svg\" alt=\"Open In Colab\"/></a>"
      ]
    },
    {
      "cell_type": "markdown",
      "source": [
        "# Заметка\n",
        "## Проверка формулы:\n",
        "\n",
        "$$f(x(\\cdot))=\\frac{1}{2}\\int_2^{\\pi}K(t,s)x(s)ds,\\quad \\textrm{где}\\quad  x(\\cdot)\\in C[0,1]$$\n"
      ],
      "metadata": {
        "id": "PSgUni0ydb6S"
      }
    },
    {
      "cell_type": "code",
      "execution_count": 2,
      "metadata": {
        "colab": {
          "base_uri": "https://localhost:8080/",
          "height": 282
        },
        "id": "U0GfP_DXdZJi",
        "outputId": "62967bdf-042c-4070-e078-233d4c06f86b"
      },
      "outputs": [
        {
          "output_type": "execute_result",
          "data": {
            "text/plain": [
              "<matplotlib.legend.Legend at 0x7efe1737dbd0>"
            ]
          },
          "metadata": {},
          "execution_count": 2
        },
        {
          "output_type": "display_data",
          "data": {
            "image/png": "[encoded data removed]",
            "text/plain": [
              "<Figure size 432x288 with 1 Axes>"
            ]
          },
          "metadata": {
            "needs_background": "light"
          }
        }
      ],
      "source": [
        "import matplotlib.pyplot as plt\n",
        "import numpy as np\n",
        "\n",
        "nmax = 20\n",
        "n = np.arange(1, nmax + 1)\n",
        "plt.plot(n, (n + 1) / n, 'o', markersize=4, label='$y=a_n$')\n",
        "plt.xticks(range(0, nmax + 1))\n",
        "plt.legend()"
      ]
    }
  ]
}